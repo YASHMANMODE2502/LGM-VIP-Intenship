{
 "cells":[
  {
   "cell_type":"code",
   "source":[
    "import numpy as np\n",
    "import pandas as pd\n",
    "import matplotlib.pyplot as plt\n",
    "import seaborn as sns"
   ],
   "execution_count":1,
   "outputs":[
    
   ],
   "metadata":{
    "datalore":{
     "type":"CODE",
     "hide_input_from_viewers":false,
     "hide_output_from_viewers":false,
     "node_id":"ARPfXmTsovKhCJzXoICXuE"
    }
   }
  },
  {
   "cell_type":"code",
   "source":[
    "df=pd.read_csv('globalterrorismdb_0718dist.csv', encoding=('ISO-8859-1'), low_memory=False)\n",
    "df.head()"
   ],
   "execution_count":3,
   "outputs":[
    {
     "data":{
      "text\/html":[
       "<div>\n",
       "<style scoped>\n",
       "    .dataframe tbody tr th:only-of-type {\n",
       "        vertical-align: middle;\n",
       "    }\n",
       "\n",
       "    .dataframe tbody tr th {\n",
       "        vertical-align: top;\n",
       "    }\n",
       "\n",
       "    .dataframe thead th {\n",
       "        text-align: right;\n",
       "    }\n",
       "<\/style>\n",
       "<table border=\"1\" class=\"dataframe\">\n",
       "  <thead>\n",
       "    <tr style=\"text-align: right;\">\n",
       "      <th><\/th>\n",
       "      <th>eventid<\/th>\n",
       "      <th>iyear<\/th>\n",
       "      <th>imonth<\/th>\n",
       "      <th>iday<\/th>\n",
       "      <th>approxdate<\/th>\n",
       "      <th>extended<\/th>\n",
       "      <th>resolution<\/th>\n",
       "      <th>country<\/th>\n",
       "      <th>country_txt<\/th>\n",
       "      <th>region<\/th>\n",
       "      <th>...<\/th>\n",
       "      <th>addnotes<\/th>\n",
       "      <th>scite1<\/th>\n",
       "      <th>scite2<\/th>\n",
       "      <th>scite3<\/th>\n",
       "      <th>dbsource<\/th>\n",
       "      <th>INT_LOG<\/th>\n",
       "      <th>INT_IDEO<\/th>\n",
       "      <th>INT_MISC<\/th>\n",
       "      <th>INT_ANY<\/th>\n",
       "      <th>related<\/th>\n",
       "    <\/tr>\n",
       "  <\/thead>\n",
       "  <tbody>\n",
       "    <tr>\n",
       "      <th>0<\/th>\n",
       "      <td>197000000001<\/td>\n",
       "      <td>1970<\/td>\n",
       "      <td>7<\/td>\n",
       "      <td>2<\/td>\n",
       "      <td>NaN<\/td>\n",
       "      <td>0<\/td>\n",
       "      <td>NaN<\/td>\n",
       "      <td>58<\/td>\n",
       "      <td>Dominican Republic<\/td>\n",
       "      <td>2<\/td>\n",
       "      <td>...<\/td>\n",
       "      <td>NaN<\/td>\n",
       "      <td>NaN<\/td>\n",
       "      <td>NaN<\/td>\n",
       "      <td>NaN<\/td>\n",
       "      <td>PGIS<\/td>\n",
       "      <td>0<\/td>\n",
       "      <td>0<\/td>\n",
       "      <td>0<\/td>\n",
       "      <td>0<\/td>\n",
       "      <td>NaN<\/td>\n",
       "    <\/tr>\n",
       "    <tr>\n",
       "      <th>1<\/th>\n",
       "      <td>197000000002<\/td>\n",
       "      <td>1970<\/td>\n",
       "      <td>0<\/td>\n",
       "      <td>0<\/td>\n",
       "      <td>NaN<\/td>\n",
       "      <td>0<\/td>\n",
       "      <td>NaN<\/td>\n",
       "      <td>130<\/td>\n",
       "      <td>Mexico<\/td>\n",
       "      <td>1<\/td>\n",
       "      <td>...<\/td>\n",
       "      <td>NaN<\/td>\n",
       "      <td>NaN<\/td>\n",
       "      <td>NaN<\/td>\n",
       "      <td>NaN<\/td>\n",
       "      <td>PGIS<\/td>\n",
       "      <td>0<\/td>\n",
       "      <td>1<\/td>\n",
       "      <td>1<\/td>\n",
       "      <td>1<\/td>\n",
       "      <td>NaN<\/td>\n",
       "    <\/tr>\n",
       "    <tr>\n",
       "      <th>2<\/th>\n",
       "      <td>197001000001<\/td>\n",
       "      <td>1970<\/td>\n",
       "      <td>1<\/td>\n",
       "      <td>0<\/td>\n",
       "      <td>NaN<\/td>\n",
       "      <td>0<\/td>\n",
       "      <td>NaN<\/td>\n",
       "      <td>160<\/td>\n",
       "      <td>Philippines<\/td>\n",
       "      <td>5<\/td>\n",
       "      <td>...<\/td>\n",
       "      <td>NaN<\/td>\n",
       "      <td>NaN<\/td>\n",
       "      <td>NaN<\/td>\n",
       "      <td>NaN<\/td>\n",
       "      <td>PGIS<\/td>\n",
       "      <td>-9<\/td>\n",
       "      <td>-9<\/td>\n",
       "      <td>1<\/td>\n",
       "      <td>1<\/td>\n",
       "      <td>NaN<\/td>\n",
       "    <\/tr>\n",
       "    <tr>\n",
       "      <th>3<\/th>\n",
       "      <td>197001000002<\/td>\n",
       "      <td>1970<\/td>\n",
       "      <td>1<\/td>\n",
       "      <td>0<\/td>\n",
       "      <td>NaN<\/td>\n",
       "      <td>0<\/td>\n",
       "      <td>NaN<\/td>\n",
       "      <td>78<\/td>\n",
       "      <td>Greece<\/td>\n",
       "      <td>8<\/td>\n",
       "      <td>...<\/td>\n",
       "      <td>NaN<\/td>\n",
       "      <td>NaN<\/td>\n",
       "      <td>NaN<\/td>\n",
       "      <td>NaN<\/td>\n",
       "      <td>PGIS<\/td>\n",
       "      <td>-9<\/td>\n",
       "      <td>-9<\/td>\n",
       "      <td>1<\/td>\n",
       "      <td>1<\/td>\n",
       "      <td>NaN<\/td>\n",
       "    <\/tr>\n",
       "    <tr>\n",
       "      <th>4<\/th>\n",
       "      <td>197001000003<\/td>\n",
       "      <td>1970<\/td>\n",
       "      <td>1<\/td>\n",
       "      <td>0<\/td>\n",
       "      <td>NaN<\/td>\n",
       "      <td>0<\/td>\n",
       "      <td>NaN<\/td>\n",
       "      <td>101<\/td>\n",
       "      <td>Japan<\/td>\n",
       "      <td>4<\/td>\n",
       "      <td>...<\/td>\n",
       "      <td>NaN<\/td>\n",
       "      <td>NaN<\/td>\n",
       "      <td>NaN<\/td>\n",
       "      <td>NaN<\/td>\n",
       "      <td>PGIS<\/td>\n",
       "      <td>-9<\/td>\n",
       "      <td>-9<\/td>\n",
       "      <td>1<\/td>\n",
       "      <td>1<\/td>\n",
       "      <td>NaN<\/td>\n",
       "    <\/tr>\n",
       "  <\/tbody>\n",
       "<\/table>\n",
       "<p>5 rows × 135 columns<\/p>\n",
       "<\/div>"
      ]
     },
     "metadata":{
      
     },
     "output_type":"display_data"
    }
   ],
   "metadata":{
    "datalore":{
     "type":"CODE",
     "hide_input_from_viewers":false,
     "hide_output_from_viewers":false,
     "node_id":"pB0SqlFb4jj6YkeQ1A3DQ8"
    }
   }
  },
  {
   "cell_type":"code",
   "source":[
    "df.info()"
   ],
   "execution_count":4,
   "outputs":[
    {
     "name":"stdout",
     "text":[
      "<class 'pandas.core.frame.DataFrame'>\n",
      "RangeIndex: 181691 entries, 0 to 181690\n",
      "Columns: 135 entries, eventid to related\n",
      "dtypes: float64(55), int64(22), object(58)\n",
      "memory usage: 187.1+ MB\n"
     ],
     "output_type":"stream"
    }
   ],
   "metadata":{
    "datalore":{
     "type":"CODE",
     "hide_input_from_viewers":false,
     "hide_output_from_viewers":false,
     "node_id":"cjxINVibAYNopgzbM3ZEpR"
    }
   }
  },
  {
   "cell_type":"code",
   "source":[
    "df.columns"
   ],
   "execution_count":5,
   "outputs":[
    {
     "data":{
      "text\/plain":[
       "Index(['eventid', 'iyear', 'imonth', 'iday', 'approxdate', 'extended',\n",
       "       'resolution', 'country', 'country_txt', 'region',\n",
       "       ...\n",
       "       'addnotes', 'scite1', 'scite2', 'scite3', 'dbsource', 'INT_LOG',\n",
       "       'INT_IDEO', 'INT_MISC', 'INT_ANY', 'related'],\n",
       "      dtype='object', length=135)"
      ]
     },
     "metadata":{
      
     },
     "output_type":"display_data"
    }
   ],
   "metadata":{
    "datalore":{
     "type":"CODE",
     "hide_input_from_viewers":false,
     "hide_output_from_viewers":false,
     "node_id":"hkBtJbGFhsWg0mBaGUedvI"
    }
   }
  },
  {
   "cell_type":"code",
   "source":[
    "for i in df.columns:\n",
    "    print(i,end=\", \")   #to print each column name"
   ],
   "execution_count":6,
   "outputs":[
    {
     "name":"stdout",
     "text":[
      "eventid, iyear, imonth, iday, approxdate, extended, resolution, country, country_txt, region, region_txt, provstate, city, latitude, longitude, specificity, vicinity, location, summary, crit1, crit2, crit3, doubtterr, alternative, alternative_txt, multiple, success, suicide, attacktype1, attacktype1_txt, attacktype2, attacktype2_txt, attacktype3, attacktype3_txt, targtype1, targtype1_txt, targsubtype1, targsubtype1_txt, corp1, target1, natlty1, natlty1_txt, targtype2, targtype2_txt, targsubtype2, targsubtype2_txt, corp2, target2, natlty2, natlty2_txt, targtype3, targtype3_txt, targsubtype3, targsubtype3_txt, corp3, target3, natlty3, natlty3_txt, gname, gsubname, gname2, gsubname2, gname3, gsubname3, motive, guncertain1, guncertain2, guncertain3, individual, nperps, nperpcap, claimed, claimmode, claimmode_txt, claim2, claimmode2, claimmode2_txt, claim3, claimmode3, claimmode3_txt, compclaim, weaptype1, weaptype1_txt, weapsubtype1, weapsubtype1_txt, weaptype2, weaptype2_txt, weapsubtype2, weapsubtype2_txt, weaptype3, weaptype3_txt, weapsubtype3, weapsubtype3_txt, weaptype4, weaptype4_txt, weapsubtype4, weapsubtype4_txt, weapdetail, nkill, nkillus, nkillter, nwound, nwoundus, nwoundte, property, propextent, propextent_txt, propvalue, propcomment, ishostkid, nhostkid, nhostkidus, nhours, ndays, divert, kidhijcountry, ransom, ransomamt, ransomamtus, ransompaid, ransompaidus, ransomnote, hostkidoutcome, hostkidoutcome_txt, nreleased, addnotes, scite1, scite2, scite3, dbsource, INT_LOG, INT_IDEO, INT_MISC, INT_ANY, related, "
     ],
     "output_type":"stream"
    }
   ],
   "metadata":{
    "datalore":{
     "type":"CODE",
     "hide_input_from_viewers":false,
     "hide_output_from_viewers":false,
     "node_id":"Eu2A8l8zLWIOYeJJj4QJt6"
    }
   }
  },
  {
   "cell_type":"code",
   "source":[
    "df=df[[\"iyear\",\"imonth\",\"iday\",\"country_txt\",\"region_txt\",\"provstate\",\"city\",\n",
    "       \"latitude\",\"longitude\",\"location\",\"summary\",\"attacktype1_txt\",\"targtype1_txt\",\n",
    "       \"gname\",\"motive\",\"weaptype1_txt\",\"nkill\",\"nwound\",\"addnotes\"]]\n",
    "df.head()         #dealt with some columns of datasets"
   ],
   "execution_count":7,
   "outputs":[
    {
     "data":{
      "text\/html":[
       "<div>\n",
       "<style scoped>\n",
       "    .dataframe tbody tr th:only-of-type {\n",
       "        vertical-align: middle;\n",
       "    }\n",
       "\n",
       "    .dataframe tbody tr th {\n",
       "        vertical-align: top;\n",
       "    }\n",
       "\n",
       "    .dataframe thead th {\n",
       "        text-align: right;\n",
       "    }\n",
       "<\/style>\n",
       "<table border=\"1\" class=\"dataframe\">\n",
       "  <thead>\n",
       "    <tr style=\"text-align: right;\">\n",
       "      <th><\/th>\n",
       "      <th>iyear<\/th>\n",
       "      <th>imonth<\/th>\n",
       "      <th>iday<\/th>\n",
       "      <th>country_txt<\/th>\n",
       "      <th>region_txt<\/th>\n",
       "      <th>provstate<\/th>\n",
       "      <th>city<\/th>\n",
       "      <th>latitude<\/th>\n",
       "      <th>longitude<\/th>\n",
       "      <th>location<\/th>\n",
       "      <th>summary<\/th>\n",
       "      <th>attacktype1_txt<\/th>\n",
       "      <th>targtype1_txt<\/th>\n",
       "      <th>gname<\/th>\n",
       "      <th>motive<\/th>\n",
       "      <th>weaptype1_txt<\/th>\n",
       "      <th>nkill<\/th>\n",
       "      <th>nwound<\/th>\n",
       "      <th>addnotes<\/th>\n",
       "    <\/tr>\n",
       "  <\/thead>\n",
       "  <tbody>\n",
       "    <tr>\n",
       "      <th>0<\/th>\n",
       "      <td>1970<\/td>\n",
       "      <td>7<\/td>\n",
       "      <td>2<\/td>\n",
       "      <td>Dominican Republic<\/td>\n",
       "      <td>Central America &amp; Caribbean<\/td>\n",
       "      <td>NaN<\/td>\n",
       "      <td>Santo Domingo<\/td>\n",
       "      <td>18.456792<\/td>\n",
       "      <td>-69.951164<\/td>\n",
       "      <td>NaN<\/td>\n",
       "      <td>NaN<\/td>\n",
       "      <td>Assassination<\/td>\n",
       "      <td>Private Citizens &amp; Property<\/td>\n",
       "      <td>MANO-D<\/td>\n",
       "      <td>NaN<\/td>\n",
       "      <td>Unknown<\/td>\n",
       "      <td>1.0<\/td>\n",
       "      <td>0.0<\/td>\n",
       "      <td>NaN<\/td>\n",
       "    <\/tr>\n",
       "    <tr>\n",
       "      <th>1<\/th>\n",
       "      <td>1970<\/td>\n",
       "      <td>0<\/td>\n",
       "      <td>0<\/td>\n",
       "      <td>Mexico<\/td>\n",
       "      <td>North America<\/td>\n",
       "      <td>Federal<\/td>\n",
       "      <td>Mexico city<\/td>\n",
       "      <td>19.371887<\/td>\n",
       "      <td>-99.086624<\/td>\n",
       "      <td>NaN<\/td>\n",
       "      <td>NaN<\/td>\n",
       "      <td>Hostage Taking (Kidnapping)<\/td>\n",
       "      <td>Government (Diplomatic)<\/td>\n",
       "      <td>23rd of September Communist League<\/td>\n",
       "      <td>NaN<\/td>\n",
       "      <td>Unknown<\/td>\n",
       "      <td>0.0<\/td>\n",
       "      <td>0.0<\/td>\n",
       "      <td>NaN<\/td>\n",
       "    <\/tr>\n",
       "    <tr>\n",
       "      <th>2<\/th>\n",
       "      <td>1970<\/td>\n",
       "      <td>1<\/td>\n",
       "      <td>0<\/td>\n",
       "      <td>Philippines<\/td>\n",
       "      <td>Southeast Asia<\/td>\n",
       "      <td>Tarlac<\/td>\n",
       "      <td>Unknown<\/td>\n",
       "      <td>15.478598<\/td>\n",
       "      <td>120.599741<\/td>\n",
       "      <td>NaN<\/td>\n",
       "      <td>NaN<\/td>\n",
       "      <td>Assassination<\/td>\n",
       "      <td>Journalists &amp; Media<\/td>\n",
       "      <td>Unknown<\/td>\n",
       "      <td>NaN<\/td>\n",
       "      <td>Unknown<\/td>\n",
       "      <td>1.0<\/td>\n",
       "      <td>0.0<\/td>\n",
       "      <td>NaN<\/td>\n",
       "    <\/tr>\n",
       "    <tr>\n",
       "      <th>3<\/th>\n",
       "      <td>1970<\/td>\n",
       "      <td>1<\/td>\n",
       "      <td>0<\/td>\n",
       "      <td>Greece<\/td>\n",
       "      <td>Western Europe<\/td>\n",
       "      <td>Attica<\/td>\n",
       "      <td>Athens<\/td>\n",
       "      <td>37.997490<\/td>\n",
       "      <td>23.762728<\/td>\n",
       "      <td>NaN<\/td>\n",
       "      <td>NaN<\/td>\n",
       "      <td>Bombing\/Explosion<\/td>\n",
       "      <td>Government (Diplomatic)<\/td>\n",
       "      <td>Unknown<\/td>\n",
       "      <td>NaN<\/td>\n",
       "      <td>Explosives<\/td>\n",
       "      <td>NaN<\/td>\n",
       "      <td>NaN<\/td>\n",
       "      <td>NaN<\/td>\n",
       "    <\/tr>\n",
       "    <tr>\n",
       "      <th>4<\/th>\n",
       "      <td>1970<\/td>\n",
       "      <td>1<\/td>\n",
       "      <td>0<\/td>\n",
       "      <td>Japan<\/td>\n",
       "      <td>East Asia<\/td>\n",
       "      <td>Fukouka<\/td>\n",
       "      <td>Fukouka<\/td>\n",
       "      <td>33.580412<\/td>\n",
       "      <td>130.396361<\/td>\n",
       "      <td>NaN<\/td>\n",
       "      <td>NaN<\/td>\n",
       "      <td>Facility\/Infrastructure Attack<\/td>\n",
       "      <td>Government (Diplomatic)<\/td>\n",
       "      <td>Unknown<\/td>\n",
       "      <td>NaN<\/td>\n",
       "      <td>Incendiary<\/td>\n",
       "      <td>NaN<\/td>\n",
       "      <td>NaN<\/td>\n",
       "      <td>NaN<\/td>\n",
       "    <\/tr>\n",
       "  <\/tbody>\n",
       "<\/table>\n",
       "<\/div>"
      ]
     },
     "metadata":{
      
     },
     "output_type":"display_data"
    }
   ],
   "metadata":{
    "datalore":{
     "type":"CODE",
     "hide_input_from_viewers":false,
     "hide_output_from_viewers":false,
     "node_id":"Gymbm3YnmE8snPiDI35uRp"
    }
   }
  },
  {
   "cell_type":"code",
   "source":[
    "df.rename(columns={\"iyear\":\"Year\",\"imonth\":\"Month\",\"iday\":\"Day\",\"country_txt\":\"Country\",\n",
    "                   \"region_txt\":\"Region\",\"provstate\":\"Province\/State\",\"city\":\"City\",\n",
    "                   \"latitude\":\"Latitude\",\"longitude\":\"Longitude\",\"location\":\"Location\",\n",
    "                   \"summary\":\"Summary\",\"attacktype1_txt\":\"Attack Type\",\"targtype1_txt\":\"Target Type\",\n",
    "                   \"gname\":\"Group Name\",\"motive\":\"Motive\",\"weaptype1_txt\":\"Weapon Type\",\n",
    "                   \"nkill\":\"Killed\",\"nwound\":\"Wounded\",\"addnotes\":\"Add Notes\"},inplace=True)   #rename some columns"
   ],
   "execution_count":8,
   "outputs":[
    
   ],
   "metadata":{
    "datalore":{
     "type":"CODE",
     "hide_input_from_viewers":false,
     "hide_output_from_viewers":false,
     "node_id":"1ZqzMpG85vNlUTK27vPsBf"
    }
   }
  },
  {
   "cell_type":"code",
   "source":[
    "df.head()"
   ],
   "execution_count":9,
   "outputs":[
    {
     "data":{
      "text\/html":[
       "<div>\n",
       "<style scoped>\n",
       "    .dataframe tbody tr th:only-of-type {\n",
       "        vertical-align: middle;\n",
       "    }\n",
       "\n",
       "    .dataframe tbody tr th {\n",
       "        vertical-align: top;\n",
       "    }\n",
       "\n",
       "    .dataframe thead th {\n",
       "        text-align: right;\n",
       "    }\n",
       "<\/style>\n",
       "<table border=\"1\" class=\"dataframe\">\n",
       "  <thead>\n",
       "    <tr style=\"text-align: right;\">\n",
       "      <th><\/th>\n",
       "      <th>Year<\/th>\n",
       "      <th>Month<\/th>\n",
       "      <th>Day<\/th>\n",
       "      <th>Country<\/th>\n",
       "      <th>Region<\/th>\n",
       "      <th>Province\/State<\/th>\n",
       "      <th>City<\/th>\n",
       "      <th>Latitude<\/th>\n",
       "      <th>Longitude<\/th>\n",
       "      <th>Location<\/th>\n",
       "      <th>Summary<\/th>\n",
       "      <th>Attack Type<\/th>\n",
       "      <th>Target Type<\/th>\n",
       "      <th>Group Name<\/th>\n",
       "      <th>Motive<\/th>\n",
       "      <th>Weapon Type<\/th>\n",
       "      <th>Killed<\/th>\n",
       "      <th>Wounded<\/th>\n",
       "      <th>Add Notes<\/th>\n",
       "    <\/tr>\n",
       "  <\/thead>\n",
       "  <tbody>\n",
       "    <tr>\n",
       "      <th>0<\/th>\n",
       "      <td>1970<\/td>\n",
       "      <td>7<\/td>\n",
       "      <td>2<\/td>\n",
       "      <td>Dominican Republic<\/td>\n",
       "      <td>Central America &amp; Caribbean<\/td>\n",
       "      <td>NaN<\/td>\n",
       "      <td>Santo Domingo<\/td>\n",
       "      <td>18.456792<\/td>\n",
       "      <td>-69.951164<\/td>\n",
       "      <td>NaN<\/td>\n",
       "      <td>NaN<\/td>\n",
       "      <td>Assassination<\/td>\n",
       "      <td>Private Citizens &amp; Property<\/td>\n",
       "      <td>MANO-D<\/td>\n",
       "      <td>NaN<\/td>\n",
       "      <td>Unknown<\/td>\n",
       "      <td>1.0<\/td>\n",
       "      <td>0.0<\/td>\n",
       "      <td>NaN<\/td>\n",
       "    <\/tr>\n",
       "    <tr>\n",
       "      <th>1<\/th>\n",
       "      <td>1970<\/td>\n",
       "      <td>0<\/td>\n",
       "      <td>0<\/td>\n",
       "      <td>Mexico<\/td>\n",
       "      <td>North America<\/td>\n",
       "      <td>Federal<\/td>\n",
       "      <td>Mexico city<\/td>\n",
       "      <td>19.371887<\/td>\n",
       "      <td>-99.086624<\/td>\n",
       "      <td>NaN<\/td>\n",
       "      <td>NaN<\/td>\n",
       "      <td>Hostage Taking (Kidnapping)<\/td>\n",
       "      <td>Government (Diplomatic)<\/td>\n",
       "      <td>23rd of September Communist League<\/td>\n",
       "      <td>NaN<\/td>\n",
       "      <td>Unknown<\/td>\n",
       "      <td>0.0<\/td>\n",
       "      <td>0.0<\/td>\n",
       "      <td>NaN<\/td>\n",
       "    <\/tr>\n",
       "    <tr>\n",
       "      <th>2<\/th>\n",
       "      <td>1970<\/td>\n",
       "      <td>1<\/td>\n",
       "      <td>0<\/td>\n",
       "      <td>Philippines<\/td>\n",
       "      <td>Southeast Asia<\/td>\n",
       "      <td>Tarlac<\/td>\n",
       "      <td>Unknown<\/td>\n",
       "      <td>15.478598<\/td>\n",
       "      <td>120.599741<\/td>\n",
       "      <td>NaN<\/td>\n",
       "      <td>NaN<\/td>\n",
       "      <td>Assassination<\/td>\n",
       "      <td>Journalists &amp; Media<\/td>\n",
       "      <td>Unknown<\/td>\n",
       "      <td>NaN<\/td>\n",
       "      <td>Unknown<\/td>\n",
       "      <td>1.0<\/td>\n",
       "      <td>0.0<\/td>\n",
       "      <td>NaN<\/td>\n",
       "    <\/tr>\n",
       "    <tr>\n",
       "      <th>3<\/th>\n",
       "      <td>1970<\/td>\n",
       "      <td>1<\/td>\n",
       "      <td>0<\/td>\n",
       "      <td>Greece<\/td>\n",
       "      <td>Western Europe<\/td>\n",
       "      <td>Attica<\/td>\n",
       "      <td>Athens<\/td>\n",
       "      <td>37.997490<\/td>\n",
       "      <td>23.762728<\/td>\n",
       "      <td>NaN<\/td>\n",
       "      <td>NaN<\/td>\n",
       "      <td>Bombing\/Explosion<\/td>\n",
       "      <td>Government (Diplomatic)<\/td>\n",
       "      <td>Unknown<\/td>\n",
       "      <td>NaN<\/td>\n",
       "      <td>Explosives<\/td>\n",
       "      <td>NaN<\/td>\n",
       "      <td>NaN<\/td>\n",
       "      <td>NaN<\/td>\n",
       "    <\/tr>\n",
       "    <tr>\n",
       "      <th>4<\/th>\n",
       "      <td>1970<\/td>\n",
       "      <td>1<\/td>\n",
       "      <td>0<\/td>\n",
       "      <td>Japan<\/td>\n",
       "      <td>East Asia<\/td>\n",
       "      <td>Fukouka<\/td>\n",
       "      <td>Fukouka<\/td>\n",
       "      <td>33.580412<\/td>\n",
       "      <td>130.396361<\/td>\n",
       "      <td>NaN<\/td>\n",
       "      <td>NaN<\/td>\n",
       "      <td>Facility\/Infrastructure Attack<\/td>\n",
       "      <td>Government (Diplomatic)<\/td>\n",
       "      <td>Unknown<\/td>\n",
       "      <td>NaN<\/td>\n",
       "      <td>Incendiary<\/td>\n",
       "      <td>NaN<\/td>\n",
       "      <td>NaN<\/td>\n",
       "      <td>NaN<\/td>\n",
       "    <\/tr>\n",
       "  <\/tbody>\n",
       "<\/table>\n",
       "<\/div>"
      ]
     },
     "metadata":{
      
     },
     "output_type":"display_data"
    }
   ],
   "metadata":{
    "datalore":{
     "type":"CODE",
     "hide_input_from_viewers":false,
     "hide_output_from_viewers":false,
     "node_id":"NfbcyILUgEEXCRQtyH6xls"
    }
   }
  },
  {
   "cell_type":"code",
   "source":[
    "df.info()"
   ],
   "execution_count":10,
   "outputs":[
    {
     "name":"stdout",
     "text":[
      "<class 'pandas.core.frame.DataFrame'>\n",
      "RangeIndex: 181691 entries, 0 to 181690\n",
      "Data columns (total 19 columns):\n",
      " #   Column          Non-Null Count   Dtype  \n",
      "---  ------          --------------   -----  \n",
      " 0   Year            181691 non-null  int64  \n",
      " 1   Month           181691 non-null  int64  \n",
      " 2   Day             181691 non-null  int64  \n",
      " 3   Country         181691 non-null  object \n",
      " 4   Region          181691 non-null  object \n",
      " 5   Province\/State  181270 non-null  object \n",
      " 6   City            181257 non-null  object \n",
      " 7   Latitude        177135 non-null  float64\n",
      " 8   Longitude       177134 non-null  float64\n",
      " 9   Location        55495 non-null   object \n",
      " 10  Summary         115562 non-null  object \n",
      " 11  Attack Type     181691 non-null  object \n",
      " 12  Target Type     181691 non-null  object \n",
      " 13  Group Name      181691 non-null  object \n",
      " 14  Motive          50561 non-null   object \n",
      " 15  Weapon Type     181691 non-null  object \n",
      " 16  Killed          171378 non-null  float64\n",
      " 17  Wounded         165380 non-null  float64\n",
      " 18  Add Notes       28289 non-null   object \n",
      "dtypes: float64(4), int64(3), object(12)\n",
      "memory usage: 26.3+ MB\n"
     ],
     "output_type":"stream"
    }
   ],
   "metadata":{
    "datalore":{
     "type":"CODE",
     "hide_input_from_viewers":false,
     "hide_output_from_viewers":false,
     "node_id":"N9qvPuyUNOMPJoB7pOT3bU"
    }
   }
  },
  {
   "cell_type":"code",
   "source":[
    "df.isnull().sum() #to see how many null values are there in each columns"
   ],
   "execution_count":11,
   "outputs":[
    {
     "data":{
      "text\/html":[
       
      ]
     },
     "metadata":{
      
     },
     "output_type":"display_data"
    }
   ],
   "metadata":{
    "datalore":{
     "type":"CODE",
     "hide_input_from_viewers":false,
     "hide_output_from_viewers":false,
     "node_id":"Ca4pWhfa2faTCn9W0Onh5x"
    }
   }
  },
  {
   "cell_type":"code",
   "source":[
    "df[\"Killed\"]=df[\"Killed\"].fillna(0)\n",
    "df[\"Wounded\"]=df[\"Wounded\"].fillna(0)\n",
    "df[\"Casualty\"]=df[\"Killed\"]+df[\"Wounded\"]"
   ],
   "execution_count":12,
   "outputs":[
    
   ],
   "metadata":{
    "datalore":{
     "type":"CODE",
     "hide_input_from_viewers":false,
     "hide_output_from_viewers":false,
     "node_id":"OJe4u09FNs2AKJGXs5LqFk"
    }
   }
  },
  {
   "cell_type":"code",
   "source":[
    "df.describe()"
   ],
   "execution_count":13,
   "outputs":[
    {
     "data":{
      "text\/html":[
       "<div>\n",
       "<style scoped>\n",
       "    .dataframe tbody tr th:only-of-type {\n",
       "        vertical-align: middle;\n",
       "    }\n",
       "\n",
       "    .dataframe tbody tr th {\n",
       "        vertical-align: top;\n",
       "    }\n",
       "\n",
       "    .dataframe thead th {\n",
       "        text-align: right;\n",
       "    }\n",
       "<\/style>\n",
       "<table border=\"1\" class=\"dataframe\">\n",
       "  <thead>\n",
       "    <tr style=\"text-align: right;\">\n",
       "      <th><\/th>\n",
       "      <th>Year<\/th>\n",
       "      <th>Month<\/th>\n",
       "      <th>Day<\/th>\n",
       "      <th>Latitude<\/th>\n",
       "      <th>Longitude<\/th>\n",
       "      <th>Killed<\/th>\n",
       "      <th>Wounded<\/th>\n",
       "      <th>Casualty<\/th>\n",
       "    <\/tr>\n",
       "  <\/thead>\n",
       "  <tbody>\n",
       "    <tr>\n",
       "      <th>count<\/th>\n",
       "      <td>181691.000000<\/td>\n",
       "      <td>181691.000000<\/td>\n",
       "      <td>181691.000000<\/td>\n",
       "      <td>177135.000000<\/td>\n",
       "      <td>1.771340e+05<\/td>\n",
       "      <td>181691.000000<\/td>\n",
       "      <td>181691.000000<\/td>\n",
       "      <td>181691.000000<\/td>\n",
       "    <\/tr>\n",
       "    <tr>\n",
       "      <th>mean<\/th>\n",
       "      <td>2002.638997<\/td>\n",
       "      <td>6.467277<\/td>\n",
       "      <td>15.505644<\/td>\n",
       "      <td>23.498343<\/td>\n",
       "      <td>-4.586957e+02<\/td>\n",
       "      <td>2.266860<\/td>\n",
       "      <td>2.883296<\/td>\n",
       "      <td>5.150156<\/td>\n",
       "    <\/tr>\n",
       "    <tr>\n",
       "      <th>std<\/th>\n",
       "      <td>13.259430<\/td>\n",
       "      <td>3.388303<\/td>\n",
       "      <td>8.814045<\/td>\n",
       "      <td>18.569242<\/td>\n",
       "      <td>2.047790e+05<\/td>\n",
       "      <td>11.227057<\/td>\n",
       "      <td>34.309747<\/td>\n",
       "      <td>40.555416<\/td>\n",
       "    <\/tr>\n",
       "    <tr>\n",
       "      <th>min<\/th>\n",
       "      <td>1970.000000<\/td>\n",
       "      <td>0.000000<\/td>\n",
       "      <td>0.000000<\/td>\n",
       "      <td>-53.154613<\/td>\n",
       "      <td>-8.618590e+07<\/td>\n",
       "      <td>0.000000<\/td>\n",
       "      <td>0.000000<\/td>\n",
       "      <td>0.000000<\/td>\n",
       "    <\/tr>\n",
       "    <tr>\n",
       "      <th>25%<\/th>\n",
       "      <td>1991.000000<\/td>\n",
       "      <td>4.000000<\/td>\n",
       "      <td>8.000000<\/td>\n",
       "      <td>11.510046<\/td>\n",
       "      <td>4.545640e+00<\/td>\n",
       "      <td>0.000000<\/td>\n",
       "      <td>0.000000<\/td>\n",
       "      <td>0.000000<\/td>\n",
       "    <\/tr>\n",
       "    <tr>\n",
       "      <th>50%<\/th>\n",
       "      <td>2009.000000<\/td>\n",
       "      <td>6.000000<\/td>\n",
       "      <td>15.000000<\/td>\n",
       "      <td>31.467463<\/td>\n",
       "      <td>4.324651e+01<\/td>\n",
       "      <td>0.000000<\/td>\n",
       "      <td>0.000000<\/td>\n",
       "      <td>1.000000<\/td>\n",
       "    <\/tr>\n",
       "    <tr>\n",
       "      <th>75%<\/th>\n",
       "      <td>2014.000000<\/td>\n",
       "      <td>9.000000<\/td>\n",
       "      <td>23.000000<\/td>\n",
       "      <td>34.685087<\/td>\n",
       "      <td>6.871033e+01<\/td>\n",
       "      <td>2.000000<\/td>\n",
       "      <td>2.000000<\/td>\n",
       "      <td>4.000000<\/td>\n",
       "    <\/tr>\n",
       "    <tr>\n",
       "      <th>max<\/th>\n",
       "      <td>2017.000000<\/td>\n",
       "      <td>12.000000<\/td>\n",
       "      <td>31.000000<\/td>\n",
       "      <td>74.633553<\/td>\n",
       "      <td>1.793667e+02<\/td>\n",
       "      <td>1570.000000<\/td>\n",
       "      <td>8191.000000<\/td>\n",
       "      <td>9574.000000<\/td>\n",
       "    <\/tr>\n",
       "  <\/tbody>\n",
       "<\/table>\n",
       "<\/div>"
      ]
     },
     "metadata":{
      
     },
     "output_type":"display_data"
    }
   ],
   "metadata":{
    "datalore":{
     "type":"CODE",
     "hide_input_from_viewers":false,
     "hide_output_from_viewers":false,
     "node_id":"fkA5aAcdKX1JfrpCENHSOp"
    }
   }
  },
  {
   "cell_type":"code",
   "source":[
    "df.corr() #to see correlation features b\/w every 2 columns."
   ],
   "execution_count":14,
   "outputs":[
    {
     "data":{
      "text\/html":[
       "<div>\n",
       "<style scoped>\n",
       "    .dataframe tbody tr th:only-of-type {\n",
       "        vertical-align: middle;\n",
       "    }\n",
       "\n",
       "    .dataframe tbody tr th {\n",
       "        vertical-align: top;\n",
       "    }\n",
       "\n",
       "    .dataframe thead th {\n",
       "        text-align: right;\n",
       "    }\n",
       "<\/style>\n",
       "<table border=\"1\" class=\"dataframe\">\n",
       "  <thead>\n",
       "    <tr style=\"text-align: right;\">\n",
       "      <th><\/th>\n",
       "      <th>Year<\/th>\n",
       "      <th>Month<\/th>\n",
       "      <th>Day<\/th>\n",
       "      <th>Latitude<\/th>\n",
       "      <th>Longitude<\/th>\n",
       "      <th>Killed<\/th>\n",
       "      <th>Wounded<\/th>\n",
       "      <th>Casualty<\/th>\n",
       "    <\/tr>\n",
       "  <\/thead>\n",
       "  <tbody>\n",
       "    <tr>\n",
       "      <th>Year<\/th>\n",
       "      <td>1.000000<\/td>\n",
       "      <td>0.000139<\/td>\n",
       "      <td>0.018254<\/td>\n",
       "      <td>0.166933<\/td>\n",
       "      <td>0.003917<\/td>\n",
       "      <td>0.021252<\/td>\n",
       "      <td>0.017484<\/td>\n",
       "      <td>0.020675<\/td>\n",
       "    <\/tr>\n",
       "    <tr>\n",
       "      <th>Month<\/th>\n",
       "      <td>0.000139<\/td>\n",
       "      <td>1.000000<\/td>\n",
       "      <td>0.005497<\/td>\n",
       "      <td>-0.015978<\/td>\n",
       "      <td>-0.003880<\/td>\n",
       "      <td>0.004031<\/td>\n",
       "      <td>0.003178<\/td>\n",
       "      <td>0.003805<\/td>\n",
       "    <\/tr>\n",
       "    <tr>\n",
       "      <th>Day<\/th>\n",
       "      <td>0.018254<\/td>\n",
       "      <td>0.005497<\/td>\n",
       "      <td>1.000000<\/td>\n",
       "      <td>0.003423<\/td>\n",
       "      <td>-0.002285<\/td>\n",
       "      <td>-0.003225<\/td>\n",
       "      <td>-0.001082<\/td>\n",
       "      <td>-0.001808<\/td>\n",
       "    <\/tr>\n",
       "    <tr>\n",
       "      <th>Latitude<\/th>\n",
       "      <td>0.166933<\/td>\n",
       "      <td>-0.015978<\/td>\n",
       "      <td>0.003423<\/td>\n",
       "      <td>1.000000<\/td>\n",
       "      <td>0.001463<\/td>\n",
       "      <td>-0.013170<\/td>\n",
       "      <td>0.015920<\/td>\n",
       "      <td>0.009899<\/td>\n",
       "    <\/tr>\n",
       "    <tr>\n",
       "      <th>Longitude<\/th>\n",
       "      <td>0.003917<\/td>\n",
       "      <td>-0.003880<\/td>\n",
       "      <td>-0.002285<\/td>\n",
       "      <td>0.001463<\/td>\n",
       "      <td>1.000000<\/td>\n",
       "      <td>-0.000587<\/td>\n",
       "      <td>0.000205<\/td>\n",
       "      <td>0.000013<\/td>\n",
       "    <\/tr>\n",
       "    <tr>\n",
       "      <th>Killed<\/th>\n",
       "      <td>0.021252<\/td>\n",
       "      <td>0.004031<\/td>\n",
       "      <td>-0.003225<\/td>\n",
       "      <td>-0.013170<\/td>\n",
       "      <td>-0.000587<\/td>\n",
       "      <td>1.000000<\/td>\n",
       "      <td>0.443326<\/td>\n",
       "      <td>0.651885<\/td>\n",
       "    <\/tr>\n",
       "    <tr>\n",
       "      <th>Wounded<\/th>\n",
       "      <td>0.017484<\/td>\n",
       "      <td>0.003178<\/td>\n",
       "      <td>-0.001082<\/td>\n",
       "      <td>0.015920<\/td>\n",
       "      <td>0.000205<\/td>\n",
       "      <td>0.443326<\/td>\n",
       "      <td>1.000000<\/td>\n",
       "      <td>0.968724<\/td>\n",
       "    <\/tr>\n",
       "    <tr>\n",
       "      <th>Casualty<\/th>\n",
       "      <td>0.020675<\/td>\n",
       "      <td>0.003805<\/td>\n",
       "      <td>-0.001808<\/td>\n",
       "      <td>0.009899<\/td>\n",
       "      <td>0.000013<\/td>\n",
       "      <td>0.651885<\/td>\n",
       "      <td>0.968724<\/td>\n",
       "      <td>1.000000<\/td>\n",
       "    <\/tr>\n",
       "  <\/tbody>\n",
       "<\/table>\n",
       "<\/div>"
      ]
     },
     "metadata":{
      
     },
     "output_type":"display_data"
    }
   ],
   "metadata":{
    "datalore":{
     "type":"CODE",
     "hide_input_from_viewers":false,
     "hide_output_from_viewers":false,
     "node_id":"xshmKXtcxgBneLOcUWrG5R"
    }
   }
  },
  {
   "cell_type":"markdown",
   "source":[
    "# Observations"
   ],
   "attachments":{
    
   },
   "metadata":{
    "datalore":{
     "type":"MD",
     "hide_input_from_viewers":false,
     "hide_output_from_viewers":false,
     "node_id":"RaW8ES2DH9SB31vIVTjuU7"
    }
   }
  },
  {
   "cell_type":"markdown",
   "source":[
    "- The data consists of terrorist activities from the year 1970 to 2017\n",
    "- Maximum 1570 people were killed in an event\n",
    "- Maximum 8191 people were wounded in an event\n",
    "- Maximum number of total casualties in an event were: 9574\n",
    "- on an average, we lose around 2 people every year and the same were injured in each terrorist attacks"
   ],
   "attachments":{
    
   },
   "metadata":{
    "datalore":{
     "type":"MD",
     "hide_input_from_viewers":false,
     "hide_output_from_viewers":false,
     "node_id":"tPzBe2LCLpk09i0AP493Io"
    }
   }
  },
  {
   "cell_type":"code",
   "source":[
    "attack=df[\"Year\"].value_counts(dropna=False).sort_index().to_frame().reset_index().rename(columns={\"index\":\"Year\",\"Year\":\"Attacks\"}).set_index(\"Year\")\n",
    "attack.head()"
   ],
   "execution_count":15,
   "outputs":[
    {
     "data":{
      "text\/html":[
       "<div>\n",
       "<style scoped>\n",
       "    .dataframe tbody tr th:only-of-type {\n",
       "        vertical-align: middle;\n",
       "    }\n",
       "\n",
       "    .dataframe tbody tr th {\n",
       "        vertical-align: top;\n",
       "    }\n",
       "\n",
       "    .dataframe thead th {\n",
       "        text-align: right;\n",
       "    }\n",
       "<\/style>\n",
       "<table border=\"1\" class=\"dataframe\">\n",
       "  <thead>\n",
       "    <tr style=\"text-align: right;\">\n",
       "      <th><\/th>\n",
       "      <th>Attacks<\/th>\n",
       "    <\/tr>\n",
       "    <tr>\n",
       "      <th>Year<\/th>\n",
       "      <th><\/th>\n",
       "    <\/tr>\n",
       "  <\/thead>\n",
       "  <tbody>\n",
       "    <tr>\n",
       "      <th>1970<\/th>\n",
       "      <td>651<\/td>\n",
       "    <\/tr>\n",
       "    <tr>\n",
       "      <th>1971<\/th>\n",
       "      <td>471<\/td>\n",
       "    <\/tr>\n",
       "    <tr>\n",
       "      <th>1972<\/th>\n",
       "      <td>568<\/td>\n",
       "    <\/tr>\n",
       "    <tr>\n",
       "      <th>1973<\/th>\n",
       "      <td>473<\/td>\n",
       "    <\/tr>\n",
       "    <tr>\n",
       "      <th>1974<\/th>\n",
       "      <td>581<\/td>\n",
       "    <\/tr>\n",
       "  <\/tbody>\n",
       "<\/table>\n",
       "<\/div>"
      ]
     },
     "metadata":{
      
     },
     "output_type":"display_data"
    }
   ],
   "metadata":{
    "datalore":{
     "type":"CODE",
     "hide_input_from_viewers":false,
     "hide_output_from_viewers":false,
     "node_id":"lRmpMoHfaeVJU6wpromx3M"
    }
   }
  },
  {
   "cell_type":"code",
   "source":[
    "import random as random\n",
    "r = random.random()\n",
    "b = random.random()\n",
    "g = random.random()\n",
    "colors = (r, g, b)\n",
    "\n",
    "attack.plot(kind=\"bar\",color=colors,figsize=(25,10),fontsize=13)\n",
    "plt.title(\"Timeline of Attacks\",fontsize=12)\n",
    "plt.xlabel(\"Years\",fontsize=15)\n",
    "plt.ylabel(\"Number of Attacks\",fontsize=12)\n",
    "plt.show()"
   ],
   "execution_count":16,
   "outputs":[
    {
     "data":{
      "image\/png":"[encoded data removed]"
     },
     "metadata":{
      "image\/png":{
       
      }
     },
     "output_type":"display_data"
    }
   ],
   "metadata":{
    "datalore":{
     "type":"CODE",
     "hide_input_from_viewers":false,
     "hide_output_from_viewers":false,
     "node_id":"4IccIRCfAPBYyHk27rO9WH"
    }
   }
  },
  {
   "cell_type":"code",
   "source":[
    "yc=df[[\"Year\",\"Casualty\"]].groupby(\"Year\").sum()\n",
    "yc.head()"
   ],
   "execution_count":17,
   "outputs":[
    {
     "data":{
      "text\/html":[
       "<div>\n",
       "<style scoped>\n",
       "    .dataframe tbody tr th:only-of-type {\n",
       "        vertical-align: middle;\n",
       "    }\n",
       "\n",
       "    .dataframe tbody tr th {\n",
       "        vertical-align: top;\n",
       "    }\n",
       "\n",
       "    .dataframe thead th {\n",
       "        text-align: right;\n",
       "    }\n",
       "<\/style>\n",
       "<table border=\"1\" class=\"dataframe\">\n",
       "  <thead>\n",
       "    <tr style=\"text-align: right;\">\n",
       "      <th><\/th>\n",
       "      <th>Casualty<\/th>\n",
       "    <\/tr>\n",
       "    <tr>\n",
       "      <th>Year<\/th>\n",
       "      <th><\/th>\n",
       "    <\/tr>\n",
       "  <\/thead>\n",
       "  <tbody>\n",
       "    <tr>\n",
       "      <th>1970<\/th>\n",
       "      <td>386.0<\/td>\n",
       "    <\/tr>\n",
       "    <tr>\n",
       "      <th>1971<\/th>\n",
       "      <td>255.0<\/td>\n",
       "    <\/tr>\n",
       "    <tr>\n",
       "      <th>1972<\/th>\n",
       "      <td>975.0<\/td>\n",
       "    <\/tr>\n",
       "    <tr>\n",
       "      <th>1973<\/th>\n",
       "      <td>865.0<\/td>\n",
       "    <\/tr>\n",
       "    <tr>\n",
       "      <th>1974<\/th>\n",
       "      <td>1404.0<\/td>\n",
       "    <\/tr>\n",
       "  <\/tbody>\n",
       "<\/table>\n",
       "<\/div>"
      ]
     },
     "metadata":{
      
     },
     "output_type":"display_data"
    }
   ],
   "metadata":{
    "datalore":{
     "type":"CODE",
     "hide_input_from_viewers":false,
     "hide_output_from_viewers":false,
     "node_id":"GCIhEpSvaeye3WUOakb0F2"
    }
   }
  },
  {
   "cell_type":"code",
   "source":[
    "yc.plot(kind=\"bar\",color=\"cornflowerblue\",figsize=(15,6))\n",
    "plt.title(\"Year wise Casualties\",fontsize=13)\n",
    "plt.xlabel(\"Years\",fontsize=13)\n",
    "plt.xticks(fontsize=12)\n",
    "plt.ylabel(\"Number of Casualties\",fontsize=13)\n",
    "plt.show()"
   ],
   "execution_count":18,
   "outputs":[
    {
     "data":{
      "image\/png":"[encoded data removed]"
     },
     "metadata":{
      "image\/png":{
       
      }
     },
     "output_type":"display_data"
    }
   ],
   "metadata":{
    "datalore":{
     "type":"CODE",
     "hide_input_from_viewers":false,
     "hide_output_from_viewers":false,
     "node_id":"0VUj8kfKVeoifzfJXXkdcC"
    }
   }
  },
  {
   "cell_type":"code",
   "source":[
    "kill=df[[\"Year\",\"Killed\"]].groupby(\"Year\").sum()\n",
    "kill.head()"
   ],
   "execution_count":19,
   "outputs":[
    {
     "data":{
      "text\/html":[
       "<div>\n",
       "<style scoped>\n",
       "    .dataframe tbody tr th:only-of-type {\n",
       "        vertical-align: middle;\n",
       "    }\n",
       "\n",
       "    .dataframe tbody tr th {\n",
       "        vertical-align: top;\n",
       "    }\n",
       "\n",
       "    .dataframe thead th {\n",
       "        text-align: right;\n",
       "    }\n",
       "<\/style>\n",
       "<table border=\"1\" class=\"dataframe\">\n",
       "  <thead>\n",
       "    <tr style=\"text-align: right;\">\n",
       "      <th><\/th>\n",
       "      <th>Killed<\/th>\n",
       "    <\/tr>\n",
       "    <tr>\n",
       "      <th>Year<\/th>\n",
       "      <th><\/th>\n",
       "    <\/tr>\n",
       "  <\/thead>\n",
       "  <tbody>\n",
       "    <tr>\n",
       "      <th>1970<\/th>\n",
       "      <td>174.0<\/td>\n",
       "    <\/tr>\n",
       "    <tr>\n",
       "      <th>1971<\/th>\n",
       "      <td>173.0<\/td>\n",
       "    <\/tr>\n",
       "    <tr>\n",
       "      <th>1972<\/th>\n",
       "      <td>566.0<\/td>\n",
       "    <\/tr>\n",
       "    <tr>\n",
       "      <th>1973<\/th>\n",
       "      <td>370.0<\/td>\n",
       "    <\/tr>\n",
       "    <tr>\n",
       "      <th>1974<\/th>\n",
       "      <td>539.0<\/td>\n",
       "    <\/tr>\n",
       "  <\/tbody>\n",
       "<\/table>\n",
       "<\/div>"
      ]
     },
     "metadata":{
      
     },
     "output_type":"display_data"
    }
   ],
   "metadata":{
    "datalore":{
     "type":"CODE",
     "hide_input_from_viewers":false,
     "hide_output_from_viewers":false,
     "node_id":"tL4BEhRvNgJOlOVNgme3Vb"
    }
   }
  },
  {
   "cell_type":"code",
   "source":[
    "wou=df[[\"Year\",\"Wounded\"]].groupby(\"Year\").sum()\n",
    "wou.head()"
   ],
   "execution_count":20,
   "outputs":[
    {
     "data":{
      "text\/html":[
       "<div>\n",
       "<style scoped>\n",
       "    .dataframe tbody tr th:only-of-type {\n",
       "        vertical-align: middle;\n",
       "    }\n",
       "\n",
       "    .dataframe tbody tr th {\n",
       "        vertical-align: top;\n",
       "    }\n",
       "\n",
       "    .dataframe thead th {\n",
       "        text-align: right;\n",
       "    }\n",
       "<\/style>\n",
       "<table border=\"1\" class=\"dataframe\">\n",
       "  <thead>\n",
       "    <tr style=\"text-align: right;\">\n",
       "      <th><\/th>\n",
       "      <th>Wounded<\/th>\n",
       "    <\/tr>\n",
       "    <tr>\n",
       "      <th>Year<\/th>\n",
       "      <th><\/th>\n",
       "    <\/tr>\n",
       "  <\/thead>\n",
       "  <tbody>\n",
       "    <tr>\n",
       "      <th>1970<\/th>\n",
       "      <td>212.0<\/td>\n",
       "    <\/tr>\n",
       "    <tr>\n",
       "      <th>1971<\/th>\n",
       "      <td>82.0<\/td>\n",
       "    <\/tr>\n",
       "    <tr>\n",
       "      <th>1972<\/th>\n",
       "      <td>409.0<\/td>\n",
       "    <\/tr>\n",
       "    <tr>\n",
       "      <th>1973<\/th>\n",
       "      <td>495.0<\/td>\n",
       "    <\/tr>\n",
       "    <tr>\n",
       "      <th>1974<\/th>\n",
       "      <td>865.0<\/td>\n",
       "    <\/tr>\n",
       "  <\/tbody>\n",
       "<\/table>\n",
       "<\/div>"
      ]
     },
     "metadata":{
      
     },
     "output_type":"display_data"
    }
   ],
   "metadata":{
    "datalore":{
     "type":"CODE",
     "hide_input_from_viewers":false,
     "hide_output_from_viewers":false,
     "node_id":"8vFt4xc5SKEMVdDwy3UE0y"
    }
   }
  },
  {
   "cell_type":"code",
   "source":[
    "fig=plt.figure()\n",
    "ax0=fig.add_subplot(2,1,1)\n",
    "ax1=fig.add_subplot(2,1,2)\n",
    "\n",
    "#Killed\n",
    "kill.plot(kind=\"bar\",color=\"cornflowerblue\",figsize=(15,15),ax=ax0)\n",
    "ax0.set_title(\"People Killed in each Year\")\n",
    "ax0.set_xlabel(\"Years\")\n",
    "ax0.set_ylabel(\"Number of People Killed\") \n",
    "\n",
    "#Wounded\n",
    "wou.plot(kind=\"bar\",color=\"violet\",figsize=(15,15),ax=ax1)\n",
    "ax1.set_title(\"People Wounded in each Year\")\n",
    "ax1.set_xlabel(\"Years\")\n",
    "ax1.set_ylabel(\"Number of People Wounded\")\n",
    "\n",
    "plt.show()"
   ],
   "execution_count":21,
   "outputs":[
    {
     "data":{
      "image\/png":"[encoded data removed]"
     },
     "metadata":{
      "image\/png":{
       
      }
     },
     "output_type":"display_data"
    }
   ],
   "metadata":{
    "datalore":{
     "type":"CODE",
     "hide_input_from_viewers":false,
     "hide_output_from_viewers":false,
     "node_id":"zA7sjm0VpV9uq8kRcgH4O6"
    }
   }
  },
  {
   "cell_type":"code",
   "source":[
    "reg=pd.crosstab(df.Year,df.Region)\n",
    "reg.head()"
   ],
   "execution_count":22,
   "outputs":[
    {
     "data":{
      "text\/html":[
       "<div>\n",
       "<style scoped>\n",
       "    .dataframe tbody tr th:only-of-type {\n",
       "        vertical-align: middle;\n",
       "    }\n",
       "\n",
       "    .dataframe tbody tr th {\n",
       "        vertical-align: top;\n",
       "    }\n",
       "\n",
       "    .dataframe thead th {\n",
       "        text-align: right;\n",
       "    }\n",
       "<\/style>\n",
       "<table border=\"1\" class=\"dataframe\">\n",
       "  <thead>\n",
       "    <tr style=\"text-align: right;\">\n",
       "      <th>Region<\/th>\n",
       "      <th>Australasia &amp; Oceania<\/th>\n",
       "      <th>Central America &amp; Caribbean<\/th>\n",
       "      <th>Central Asia<\/th>\n",
       "      <th>East Asia<\/th>\n",
       "      <th>Eastern Europe<\/th>\n",
       "      <th>Middle East &amp; North Africa<\/th>\n",
       "      <th>North America<\/th>\n",
       "      <th>South America<\/th>\n",
       "      <th>South Asia<\/th>\n",
       "      <th>Southeast Asia<\/th>\n",
       "      <th>Sub-Saharan Africa<\/th>\n",
       "      <th>Western Europe<\/th>\n",
       "    <\/tr>\n",
       "    <tr>\n",
       "      <th>Year<\/th>\n",
       "      <th><\/th>\n",
       "      <th><\/th>\n",
       "      <th><\/th>\n",
       "      <th><\/th>\n",
       "      <th><\/th>\n",
       "      <th><\/th>\n",
       "      <th><\/th>\n",
       "      <th><\/th>\n",
       "      <th><\/th>\n",
       "      <th><\/th>\n",
       "      <th><\/th>\n",
       "      <th><\/th>\n",
       "    <\/tr>\n",
       "  <\/thead>\n",
       "  <tbody>\n",
       "    <tr>\n",
       "      <th>1970<\/th>\n",
       "      <td>1<\/td>\n",
       "      <td>7<\/td>\n",
       "      <td>0<\/td>\n",
       "      <td>2<\/td>\n",
       "      <td>12<\/td>\n",
       "      <td>28<\/td>\n",
       "      <td>472<\/td>\n",
       "      <td>65<\/td>\n",
       "      <td>1<\/td>\n",
       "      <td>10<\/td>\n",
       "      <td>3<\/td>\n",
       "      <td>50<\/td>\n",
       "    <\/tr>\n",
       "    <tr>\n",
       "      <th>1971<\/th>\n",
       "      <td>1<\/td>\n",
       "      <td>5<\/td>\n",
       "      <td>0<\/td>\n",
       "      <td>1<\/td>\n",
       "      <td>5<\/td>\n",
       "      <td>55<\/td>\n",
       "      <td>247<\/td>\n",
       "      <td>24<\/td>\n",
       "      <td>0<\/td>\n",
       "      <td>6<\/td>\n",
       "      <td>2<\/td>\n",
       "      <td>125<\/td>\n",
       "    <\/tr>\n",
       "    <tr>\n",
       "      <th>1972<\/th>\n",
       "      <td>8<\/td>\n",
       "      <td>3<\/td>\n",
       "      <td>0<\/td>\n",
       "      <td>0<\/td>\n",
       "      <td>1<\/td>\n",
       "      <td>53<\/td>\n",
       "      <td>73<\/td>\n",
       "      <td>33<\/td>\n",
       "      <td>1<\/td>\n",
       "      <td>16<\/td>\n",
       "      <td>4<\/td>\n",
       "      <td>376<\/td>\n",
       "    <\/tr>\n",
       "    <tr>\n",
       "      <th>1973<\/th>\n",
       "      <td>1<\/td>\n",
       "      <td>6<\/td>\n",
       "      <td>0<\/td>\n",
       "      <td>2<\/td>\n",
       "      <td>1<\/td>\n",
       "      <td>19<\/td>\n",
       "      <td>64<\/td>\n",
       "      <td>83<\/td>\n",
       "      <td>1<\/td>\n",
       "      <td>2<\/td>\n",
       "      <td>4<\/td>\n",
       "      <td>290<\/td>\n",
       "    <\/tr>\n",
       "    <tr>\n",
       "      <th>1974<\/th>\n",
       "      <td>1<\/td>\n",
       "      <td>11<\/td>\n",
       "      <td>0<\/td>\n",
       "      <td>4<\/td>\n",
       "      <td>2<\/td>\n",
       "      <td>42<\/td>\n",
       "      <td>111<\/td>\n",
       "      <td>81<\/td>\n",
       "      <td>2<\/td>\n",
       "      <td>3<\/td>\n",
       "      <td>7<\/td>\n",
       "      <td>317<\/td>\n",
       "    <\/tr>\n",
       "  <\/tbody>\n",
       "<\/table>\n",
       "<\/div>"
      ]
     },
     "metadata":{
      
     },
     "output_type":"display_data"
    }
   ],
   "metadata":{
    "datalore":{
     "type":"CODE",
     "hide_input_from_viewers":false,
     "hide_output_from_viewers":false,
     "node_id":"6peDqJK0BGdb7amldbSndI"
    }
   }
  },
  {
   "cell_type":"code",
   "source":[
    "reg.plot(kind=\"line\", stacked=False, alpha=1.0,figsize=(20,10))\n",
    "plt.title(\"Region wise attacks\",fontsize=20)\n",
    "plt.xlabel(\"Years\",fontsize=20)\n",
    "plt.ylabel(\"Number of Attacks\",fontsize=20)\n",
    "plt.show()"
   ],
   "execution_count":24,
   "outputs":[
    {
     "data":{
      "image\/png":"[encoded data removed]"
     },
     "metadata":{
      "image\/png":{
       
      }
     },
     "output_type":"display_data"
    }
   ],
   "metadata":{
    "datalore":{
     "type":"CODE",
     "hide_input_from_viewers":false,
     "hide_output_from_viewers":false,
     "node_id":"1hHVZhHWKKBFwEzrqIBOZP"
    }
   }
  },
  {
   "cell_type":"code",
   "source":[
    "regt=reg.transpose()\n",
    "regt[\"Total\"]=regt.sum(axis=1)\n",
    "ra=regt[\"Total\"].sort_values(ascending=False)\n",
    "ra"
   ],
   "execution_count":25,
   "outputs":[
    {
     "data":{
      "text\/html":[
       
      ]
     },
     "metadata":{
      
     },
     "output_type":"display_data"
    }
   ],
   "metadata":{
    "datalore":{
     "type":"CODE",
     "hide_input_from_viewers":false,
     "hide_output_from_viewers":false,
     "node_id":"GJhcE9nl2oguu3Lmi8M7F8"
    }
   }
  },
  {
   "cell_type":"code",
   "source":[
    "ra.plot(kind=\"bar\",color=\"red\",figsize=(15,6))\n",
    "plt.title(\"Total Number of Attacks in each Region from 1970-2017\")\n",
    "plt.xlabel(\"Region\")\n",
    "plt.ylabel(\"Number of Attacks\")\n",
    "plt.show()"
   ],
   "execution_count":26,
   "outputs":[
    {
     "data":{
      "image\/png":"[encoded data removed]"
     },
     "metadata":{
      "image\/png":{
       
      }
     },
     "output_type":"display_data"
    }
   ],
   "metadata":{
    "datalore":{
     "type":"CODE",
     "hide_input_from_viewers":false,
     "hide_output_from_viewers":false,
     "node_id":"Xl7WRgBjMxkVGTJtLoN6jM"
    }
   }
  },
  {
   "cell_type":"code",
   "source":[
    "rc=df[[\"Region\",\"Casualty\"]].groupby(\"Region\").sum().sort_values(by=\"Casualty\",ascending=False)\n",
    "rc"
   ],
   "execution_count":27,
   "outputs":[
    {
     "data":{
      "text\/html":[
       "<div>\n",
       "<style scoped>\n",
       "    .dataframe tbody tr th:only-of-type {\n",
       "        vertical-align: middle;\n",
       "    }\n",
       "\n",
       "    .dataframe tbody tr th {\n",
       "        vertical-align: top;\n",
       "    }\n",
       "\n",
       "    .dataframe thead th {\n",
       "        text-align: right;\n",
       "    }\n",
       "<\/style>\n",
       "<table border=\"1\" class=\"dataframe\">\n",
       "  <thead>\n",
       "    <tr style=\"text-align: right;\">\n",
       "      <th><\/th>\n",
       "      <th>Casualty<\/th>\n",
       "    <\/tr>\n",
       "    <tr>\n",
       "      <th>Region<\/th>\n",
       "      <th><\/th>\n",
       "    <\/tr>\n",
       "  <\/thead>\n",
       "  <tbody>\n",
       "    <tr>\n",
       "      <th>Middle East &amp; North Africa<\/th>\n",
       "      <td>351950.0<\/td>\n",
       "    <\/tr>\n",
       "    <tr>\n",
       "      <th>South Asia<\/th>\n",
       "      <td>242679.0<\/td>\n",
       "    <\/tr>\n",
       "    <tr>\n",
       "      <th>Sub-Saharan Africa<\/th>\n",
       "      <td>131243.0<\/td>\n",
       "    <\/tr>\n",
       "    <tr>\n",
       "      <th>South America<\/th>\n",
       "      <td>45553.0<\/td>\n",
       "    <\/tr>\n",
       "    <tr>\n",
       "      <th>Southeast Asia<\/th>\n",
       "      <td>41896.0<\/td>\n",
       "    <\/tr>\n",
       "    <tr>\n",
       "      <th>Central America &amp; Caribbean<\/th>\n",
       "      <td>37699.0<\/td>\n",
       "    <\/tr>\n",
       "    <tr>\n",
       "      <th>North America<\/th>\n",
       "      <td>26447.0<\/td>\n",
       "    <\/tr>\n",
       "    <tr>\n",
       "      <th>Western Europe<\/th>\n",
       "      <td>25026.0<\/td>\n",
       "    <\/tr>\n",
       "    <tr>\n",
       "      <th>Eastern Europe<\/th>\n",
       "      <td>19460.0<\/td>\n",
       "    <\/tr>\n",
       "    <tr>\n",
       "      <th>East Asia<\/th>\n",
       "      <td>10365.0<\/td>\n",
       "    <\/tr>\n",
       "    <tr>\n",
       "      <th>Central Asia<\/th>\n",
       "      <td>3009.0<\/td>\n",
       "    <\/tr>\n",
       "    <tr>\n",
       "      <th>Australasia &amp; Oceania<\/th>\n",
       "      <td>410.0<\/td>\n",
       "    <\/tr>\n",
       "  <\/tbody>\n",
       "<\/table>\n",
       "<\/div>"
      ]
     },
     "metadata":{
      
     },
     "output_type":"display_data"
    }
   ],
   "metadata":{
    "datalore":{
     "type":"CODE",
     "hide_input_from_viewers":false,
     "hide_output_from_viewers":false,
     "node_id":"HFQYQ2n24LmppM8LsSojjz"
    }
   }
  },
  {
   "cell_type":"code",
   "source":[
    "rc.plot(kind=\"bar\",color=\"darkblue\",figsize=(15,6))\n",
    "plt.title(\"Region wise Casualties\",fontsize=13)\n",
    "plt.xlabel(\"Regions\",fontsize=13)\n",
    "plt.xticks(fontsize=12)\n",
    "plt.ylabel(\"Number of Casualties\",fontsize=13)\n",
    "plt.show()"
   ],
   "execution_count":28,
   "outputs":[
    {
     "data":{
      "image\/png":"[encoded data removed]"
     },
     "metadata":{
      "image\/png":{
       
      }
     },
     "output_type":"display_data"
    }
   ],
   "metadata":{
    "datalore":{
     "type":"CODE",
     "hide_input_from_viewers":false,
     "hide_output_from_viewers":false,
     "node_id":"E258hUqNEOeyqHTnMGyOW2"
    }
   }
  },
  {
   "cell_type":"code",
   "source":[
    "top10attack=df[\"Country\"].value_counts().head(10)\n",
    "top10attack"
   ],
   "execution_count":29,
   "outputs":[
    {
     "data":{
      "text\/html":[
       
      ]
     },
     "metadata":{
      
     },
     "output_type":"display_data"
    }
   ],
   "metadata":{
    "datalore":{
     "type":"CODE",
     "hide_input_from_viewers":false,
     "hide_output_from_viewers":false,
     "node_id":"RWtHlcsdopjoFNFJKoxlyr"
    }
   }
  },
  {
   "cell_type":"code",
   "source":[
    "top10attack.plot(kind=\"bar\",color=\"orange\",figsize=(15,6))\n",
    "plt.title(\"Country wise Attacks\",fontsize=13)\n",
    "plt.xlabel(\"Countries\",fontsize=13)\n",
    "plt.xticks(fontsize=12)\n",
    "plt.ylabel(\"Number of Attacks\",fontsize=13)\n",
    "plt.show()"
   ],
   "execution_count":30,
   "outputs":[
    {
     "data":{
      "image\/png":"[encoded data removed]"
     },
     "metadata":{
      "image\/png":{
       
      }
     },
     "output_type":"display_data"
    }
   ],
   "metadata":{
    "datalore":{
     "type":"CODE",
     "hide_input_from_viewers":false,
     "hide_output_from_viewers":false,
     "node_id":"416yS9SZaaSZdLlZRxDDO2"
    }
   }
  },
  {
   "cell_type":"code",
   "source":[
    "cnc=df[[\"Country\",\"Casualty\"]].groupby(\"Country\").sum().sort_values(by=\"Casualty\",ascending=False)\n",
    "cnc.head(10)"
   ],
   "execution_count":31,
   "outputs":[
    {
     "data":{
      "text\/html":[
       "<div>\n",
       "<style scoped>\n",
       "    .dataframe tbody tr th:only-of-type {\n",
       "        vertical-align: middle;\n",
       "    }\n",
       "\n",
       "    .dataframe tbody tr th {\n",
       "        vertical-align: top;\n",
       "    }\n",
       "\n",
       "    .dataframe thead th {\n",
       "        text-align: right;\n",
       "    }\n",
       "<\/style>\n",
       "<table border=\"1\" class=\"dataframe\">\n",
       "  <thead>\n",
       "    <tr style=\"text-align: right;\">\n",
       "      <th><\/th>\n",
       "      <th>Casualty<\/th>\n",
       "    <\/tr>\n",
       "    <tr>\n",
       "      <th>Country<\/th>\n",
       "      <th><\/th>\n",
       "    <\/tr>\n",
       "  <\/thead>\n",
       "  <tbody>\n",
       "    <tr>\n",
       "      <th>Iraq<\/th>\n",
       "      <td>213279.0<\/td>\n",
       "    <\/tr>\n",
       "    <tr>\n",
       "      <th>Afghanistan<\/th>\n",
       "      <td>83661.0<\/td>\n",
       "    <\/tr>\n",
       "    <tr>\n",
       "      <th>Pakistan<\/th>\n",
       "      <td>65860.0<\/td>\n",
       "    <\/tr>\n",
       "    <tr>\n",
       "      <th>India<\/th>\n",
       "      <td>48321.0<\/td>\n",
       "    <\/tr>\n",
       "    <tr>\n",
       "      <th>Nigeria<\/th>\n",
       "      <td>32921.0<\/td>\n",
       "    <\/tr>\n",
       "    <tr>\n",
       "      <th>Sri Lanka<\/th>\n",
       "      <td>31091.0<\/td>\n",
       "    <\/tr>\n",
       "    <tr>\n",
       "      <th>Syria<\/th>\n",
       "      <td>29338.0<\/td>\n",
       "    <\/tr>\n",
       "    <tr>\n",
       "      <th>Colombia<\/th>\n",
       "      <td>25026.0<\/td>\n",
       "    <\/tr>\n",
       "    <tr>\n",
       "      <th>United States<\/th>\n",
       "      <td>24473.0<\/td>\n",
       "    <\/tr>\n",
       "    <tr>\n",
       "      <th>Philippines<\/th>\n",
       "      <td>22926.0<\/td>\n",
       "    <\/tr>\n",
       "  <\/tbody>\n",
       "<\/table>\n",
       "<\/div>"
      ]
     },
     "metadata":{
      
     },
     "output_type":"display_data"
    }
   ],
   "metadata":{
    "datalore":{
     "type":"CODE",
     "hide_input_from_viewers":false,
     "hide_output_from_viewers":false,
     "node_id":"UcioFHMkFqPtUAHDFwWZzY"
    }
   }
  },
  {
   "cell_type":"code",
   "source":[
    "cnc[:10].plot(kind=\"bar\",color=\"yellow\",figsize=(15,6))\n",
    "plt.title(\"Country wise Casualties\",fontsize=13)\n",
    "plt.xlabel(\"Countries\",fontsize=13)\n",
    "plt.xticks(fontsize=12)\n",
    "plt.ylabel(\"Number of Casualties\",fontsize=13)\n",
    "plt.show()"
   ],
   "execution_count":32,
   "outputs":[
    {
     "data":{
      "image\/png":"[encoded data removed]"
     },
     "metadata":{
      "image\/png":{
       
      }
     },
     "output_type":"display_data"
    }
   ],
   "metadata":{
    "datalore":{
     "type":"CODE",
     "hide_input_from_viewers":false,
     "hide_output_from_viewers":false,
     "node_id":"yaMOJwtn3mZtvhKLr0e4lZ"
    }
   }
  },
  {
   "cell_type":"code",
   "source":[
    "cnk=df[[\"Country\",\"Killed\"]].groupby(\"Country\").sum().sort_values(by=\"Killed\",ascending=False)\n",
    "cnk.head(10)"
   ],
   "execution_count":33,
   "outputs":[
    {
     "data":{
      "text\/html":[
       "<div>\n",
       "<style scoped>\n",
       "    .dataframe tbody tr th:only-of-type {\n",
       "        vertical-align: middle;\n",
       "    }\n",
       "\n",
       "    .dataframe tbody tr th {\n",
       "        vertical-align: top;\n",
       "    }\n",
       "\n",
       "    .dataframe thead th {\n",
       "        text-align: right;\n",
       "    }\n",
       "<\/style>\n",
       "<table border=\"1\" class=\"dataframe\">\n",
       "  <thead>\n",
       "    <tr style=\"text-align: right;\">\n",
       "      <th><\/th>\n",
       "      <th>Killed<\/th>\n",
       "    <\/tr>\n",
       "    <tr>\n",
       "      <th>Country<\/th>\n",
       "      <th><\/th>\n",
       "    <\/tr>\n",
       "  <\/thead>\n",
       "  <tbody>\n",
       "    <tr>\n",
       "      <th>Iraq<\/th>\n",
       "      <td>78589.0<\/td>\n",
       "    <\/tr>\n",
       "    <tr>\n",
       "      <th>Afghanistan<\/th>\n",
       "      <td>39384.0<\/td>\n",
       "    <\/tr>\n",
       "    <tr>\n",
       "      <th>Pakistan<\/th>\n",
       "      <td>23822.0<\/td>\n",
       "    <\/tr>\n",
       "    <tr>\n",
       "      <th>Nigeria<\/th>\n",
       "      <td>22682.0<\/td>\n",
       "    <\/tr>\n",
       "    <tr>\n",
       "      <th>India<\/th>\n",
       "      <td>19341.0<\/td>\n",
       "    <\/tr>\n",
       "    <tr>\n",
       "      <th>Sri Lanka<\/th>\n",
       "      <td>15530.0<\/td>\n",
       "    <\/tr>\n",
       "    <tr>\n",
       "      <th>Syria<\/th>\n",
       "      <td>15229.0<\/td>\n",
       "    <\/tr>\n",
       "    <tr>\n",
       "      <th>Colombia<\/th>\n",
       "      <td>14698.0<\/td>\n",
       "    <\/tr>\n",
       "    <tr>\n",
       "      <th>Peru<\/th>\n",
       "      <td>12771.0<\/td>\n",
       "    <\/tr>\n",
       "    <tr>\n",
       "      <th>El Salvador<\/th>\n",
       "      <td>12053.0<\/td>\n",
       "    <\/tr>\n",
       "  <\/tbody>\n",
       "<\/table>\n",
       "<\/div>"
      ]
     },
     "metadata":{
      
     },
     "output_type":"display_data"
    }
   ],
   "metadata":{
    "datalore":{
     "type":"CODE",
     "hide_input_from_viewers":false,
     "hide_output_from_viewers":false,
     "node_id":"BpRqGxDMCmchjdaaiIIUVQ"
    }
   }
  },
  {
   "cell_type":"code",
   "source":[
    "cnw=df[[\"Country\",\"Wounded\"]].groupby(\"Country\").sum().sort_values(by=\"Wounded\",ascending=False)\n",
    "cnw.head(10)"
   ],
   "execution_count":34,
   "outputs":[
    {
     "data":{
      "text\/html":[
       "<div>\n",
       "<style scoped>\n",
       "    .dataframe tbody tr th:only-of-type {\n",
       "        vertical-align: middle;\n",
       "    }\n",
       "\n",
       "    .dataframe tbody tr th {\n",
       "        vertical-align: top;\n",
       "    }\n",
       "\n",
       "    .dataframe thead th {\n",
       "        text-align: right;\n",
       "    }\n",
       "<\/style>\n",
       "<table border=\"1\" class=\"dataframe\">\n",
       "  <thead>\n",
       "    <tr style=\"text-align: right;\">\n",
       "      <th><\/th>\n",
       "      <th>Wounded<\/th>\n",
       "    <\/tr>\n",
       "    <tr>\n",
       "      <th>Country<\/th>\n",
       "      <th><\/th>\n",
       "    <\/tr>\n",
       "  <\/thead>\n",
       "  <tbody>\n",
       "    <tr>\n",
       "      <th>Iraq<\/th>\n",
       "      <td>134690.0<\/td>\n",
       "    <\/tr>\n",
       "    <tr>\n",
       "      <th>Afghanistan<\/th>\n",
       "      <td>44277.0<\/td>\n",
       "    <\/tr>\n",
       "    <tr>\n",
       "      <th>Pakistan<\/th>\n",
       "      <td>42038.0<\/td>\n",
       "    <\/tr>\n",
       "    <tr>\n",
       "      <th>India<\/th>\n",
       "      <td>28980.0<\/td>\n",
       "    <\/tr>\n",
       "    <tr>\n",
       "      <th>United States<\/th>\n",
       "      <td>20702.0<\/td>\n",
       "    <\/tr>\n",
       "    <tr>\n",
       "      <th>Sri Lanka<\/th>\n",
       "      <td>15561.0<\/td>\n",
       "    <\/tr>\n",
       "    <tr>\n",
       "      <th>Syria<\/th>\n",
       "      <td>14109.0<\/td>\n",
       "    <\/tr>\n",
       "    <tr>\n",
       "      <th>Philippines<\/th>\n",
       "      <td>13367.0<\/td>\n",
       "    <\/tr>\n",
       "    <tr>\n",
       "      <th>Lebanon<\/th>\n",
       "      <td>10904.0<\/td>\n",
       "    <\/tr>\n",
       "    <tr>\n",
       "      <th>Colombia<\/th>\n",
       "      <td>10328.0<\/td>\n",
       "    <\/tr>\n",
       "  <\/tbody>\n",
       "<\/table>\n",
       "<\/div>"
      ]
     },
     "metadata":{
      
     },
     "output_type":"display_data"
    }
   ],
   "metadata":{
    "datalore":{
     "type":"CODE",
     "hide_input_from_viewers":false,
     "hide_output_from_viewers":false,
     "node_id":"gq5YeT4zJnkr2eqNgGYteI"
    }
   }
  },
  {
   "cell_type":"code",
   "source":[
    "fig=plt.figure()\n",
    "ax0=fig.add_subplot(1,2,1)\n",
    "ax1=fig.add_subplot(1,2,2)\n",
    "\n",
    "#Killed\n",
    "cnk[:10].plot(kind=\"bar\",color=\"cornflowerblue\",figsize=(15,6),ax=ax0)\n",
    "ax0.set_title(\"People Killed in each Country\")\n",
    "ax0.set_xlabel(\"Countries\")\n",
    "ax0.set_ylabel(\"Number of People Killed\")\n",
    "\n",
    "#Wounded\n",
    "cnw[:10].plot(kind=\"bar\",color=\"cornflowerblue\",figsize=(15,6),ax=ax1)\n",
    "ax1.set_title(\"People Wounded in each Country\")\n",
    "ax1.set_xlabel(\"Countries\")\n",
    "ax1.set_ylabel(\"Number of People Wounded\")\n",
    "\n",
    "plt.show()"
   ],
   "execution_count":35,
   "outputs":[
    {
     "data":{
      "image\/png":"[encoded data removed]"
     },
     "metadata":{
      "image\/png":{
       
      }
     },
     "output_type":"display_data"
    }
   ],
   "metadata":{
    "datalore":{
     "type":"CODE",
     "hide_input_from_viewers":false,
     "hide_output_from_viewers":false,
     "node_id":"vl6yLRo3BPN8FP2Ryg3cM5"
    }
   }
  },
  {
   "cell_type":"code",
   "source":[
    "city=df[\"City\"].value_counts()[1:11]\n",
    "city"
   ],
   "execution_count":36,
   "outputs":[
    {
     "data":{
      "text\/html":[
       
      ]
     },
     "metadata":{
      
     },
     "output_type":"display_data"
    }
   ],
   "metadata":{
    "datalore":{
     "type":"CODE",
     "hide_input_from_viewers":false,
     "hide_output_from_viewers":false,
     "node_id":"ZlfYm2Tm81LxLk3JBSEAIt"
    }
   }
  },
  {
   "cell_type":"code",
   "source":[
    "city.plot(kind=\"bar\",color=\"purple\",figsize=(15,6))\n",
    "plt.title(\"City wise Attacks\",fontsize=13)\n",
    "plt.xlabel(\"Cities\",fontsize=13)\n",
    "plt.xticks(fontsize=12)\n",
    "plt.ylabel(\"Number of Attacks\",fontsize=13)\n",
    "plt.show()"
   ],
   "execution_count":37,
   "outputs":[
    {
     "data":{
      "image\/png":"[encoded data removed]"
     },
     "metadata":{
      "image\/png":{
       
      }
     },
     "output_type":"display_data"
    }
   ],
   "metadata":{
    "datalore":{
     "type":"CODE",
     "hide_input_from_viewers":false,
     "hide_output_from_viewers":false,
     "node_id":"QRhZ4JxmxpcFCablwzfX0J"
    }
   }
  },
  {
   "cell_type":"code",
   "source":[
    "cc=df[[\"City\",\"Casualty\"]].groupby(\"City\").sum().sort_values(by=\"Casualty\",ascending=False).drop(\"Unknown\")\n",
    "cc.head(10)"
   ],
   "execution_count":38,
   "outputs":[
    {
     "data":{
      "text\/html":[
       "<div>\n",
       "<style scoped>\n",
       "    .dataframe tbody tr th:only-of-type {\n",
       "        vertical-align: middle;\n",
       "    }\n",
       "\n",
       "    .dataframe tbody tr th {\n",
       "        vertical-align: top;\n",
       "    }\n",
       "\n",
       "    .dataframe thead th {\n",
       "        text-align: right;\n",
       "    }\n",
       "<\/style>\n",
       "<table border=\"1\" class=\"dataframe\">\n",
       "  <thead>\n",
       "    <tr style=\"text-align: right;\">\n",
       "      <th><\/th>\n",
       "      <th>Casualty<\/th>\n",
       "    <\/tr>\n",
       "    <tr>\n",
       "      <th>City<\/th>\n",
       "      <th><\/th>\n",
       "    <\/tr>\n",
       "  <\/thead>\n",
       "  <tbody>\n",
       "    <tr>\n",
       "      <th>Baghdad<\/th>\n",
       "      <td>77876.0<\/td>\n",
       "    <\/tr>\n",
       "    <tr>\n",
       "      <th>New York City<\/th>\n",
       "      <td>19619.0<\/td>\n",
       "    <\/tr>\n",
       "    <tr>\n",
       "      <th>Mosul<\/th>\n",
       "      <td>12927.0<\/td>\n",
       "    <\/tr>\n",
       "    <tr>\n",
       "      <th>Karachi<\/th>\n",
       "      <td>9376.0<\/td>\n",
       "    <\/tr>\n",
       "    <tr>\n",
       "      <th>Mogadishu<\/th>\n",
       "      <td>8868.0<\/td>\n",
       "    <\/tr>\n",
       "    <tr>\n",
       "      <th>Kabul<\/th>\n",
       "      <td>8466.0<\/td>\n",
       "    <\/tr>\n",
       "    <tr>\n",
       "      <th>Beirut<\/th>\n",
       "      <td>7257.0<\/td>\n",
       "    <\/tr>\n",
       "    <tr>\n",
       "      <th>Kirkuk<\/th>\n",
       "      <td>6636.0<\/td>\n",
       "    <\/tr>\n",
       "    <tr>\n",
       "      <th>Colombo<\/th>\n",
       "      <td>5906.0<\/td>\n",
       "    <\/tr>\n",
       "    <tr>\n",
       "      <th>Aleppo<\/th>\n",
       "      <td>5748.0<\/td>\n",
       "    <\/tr>\n",
       "  <\/tbody>\n",
       "<\/table>\n",
       "<\/div>"
      ]
     },
     "metadata":{
      
     },
     "output_type":"display_data"
    }
   ],
   "metadata":{
    "datalore":{
     "type":"CODE",
     "hide_input_from_viewers":false,
     "hide_output_from_viewers":false,
     "node_id":"qa61t1GPvYndmhfNPqebxh"
    }
   }
  },
  {
   "cell_type":"code",
   "source":[
    "cc[:10].plot(kind=\"bar\",color=\"cornflowerblue\",figsize=(15,6))\n",
    "plt.title(\"City wise Casualties\",fontsize=13)\n",
    "plt.xlabel(\"Cities\",fontsize=13)\n",
    "plt.xticks(fontsize=12)\n",
    "plt.ylabel(\"Number of Casualties\",fontsize=13)\n",
    "plt.show()"
   ],
   "execution_count":39,
   "outputs":[
    {
     "data":{
      "image\/png":"[encoded data removed]"
     },
     "metadata":{
      "image\/png":{
       
      }
     },
     "output_type":"display_data"
    }
   ],
   "metadata":{
    "datalore":{
     "type":"CODE",
     "hide_input_from_viewers":false,
     "hide_output_from_viewers":false,
     "node_id":"NaFumbVTjtAYSQANxHvWAQ"
    }
   }
  },
  {
   "cell_type":"code",
   "source":[
    "ck=df[[\"City\",\"Killed\"]].groupby(\"City\").sum().sort_values(by=\"Killed\",ascending=False).drop(\"Unknown\")\n",
    "ck.head(10)"
   ],
   "execution_count":40,
   "outputs":[
    {
     "data":{
      "text\/html":[
       "<div>\n",
       "<style scoped>\n",
       "    .dataframe tbody tr th:only-of-type {\n",
       "        vertical-align: middle;\n",
       "    }\n",
       "\n",
       "    .dataframe tbody tr th {\n",
       "        vertical-align: top;\n",
       "    }\n",
       "\n",
       "    .dataframe thead th {\n",
       "        text-align: right;\n",
       "    }\n",
       "<\/style>\n",
       "<table border=\"1\" class=\"dataframe\">\n",
       "  <thead>\n",
       "    <tr style=\"text-align: right;\">\n",
       "      <th><\/th>\n",
       "      <th>Killed<\/th>\n",
       "    <\/tr>\n",
       "    <tr>\n",
       "      <th>City<\/th>\n",
       "      <th><\/th>\n",
       "    <\/tr>\n",
       "  <\/thead>\n",
       "  <tbody>\n",
       "    <tr>\n",
       "      <th>Baghdad<\/th>\n",
       "      <td>21151.0<\/td>\n",
       "    <\/tr>\n",
       "    <tr>\n",
       "      <th>Mosul<\/th>\n",
       "      <td>7140.0<\/td>\n",
       "    <\/tr>\n",
       "    <tr>\n",
       "      <th>Mogadishu<\/th>\n",
       "      <td>3913.0<\/td>\n",
       "    <\/tr>\n",
       "    <tr>\n",
       "      <th>Karachi<\/th>\n",
       "      <td>3688.0<\/td>\n",
       "    <\/tr>\n",
       "    <tr>\n",
       "      <th>New York City<\/th>\n",
       "      <td>2838.0<\/td>\n",
       "    <\/tr>\n",
       "    <tr>\n",
       "      <th>Tikrit<\/th>\n",
       "      <td>2679.0<\/td>\n",
       "    <\/tr>\n",
       "    <tr>\n",
       "      <th>Kabul<\/th>\n",
       "      <td>2493.0<\/td>\n",
       "    <\/tr>\n",
       "    <tr>\n",
       "      <th>Ramadi<\/th>\n",
       "      <td>2313.0<\/td>\n",
       "    <\/tr>\n",
       "    <tr>\n",
       "      <th>Maiduguri<\/th>\n",
       "      <td>2235.0<\/td>\n",
       "    <\/tr>\n",
       "    <tr>\n",
       "      <th>Aleppo<\/th>\n",
       "      <td>2125.0<\/td>\n",
       "    <\/tr>\n",
       "  <\/tbody>\n",
       "<\/table>\n",
       "<\/div>"
      ]
     },
     "metadata":{
      
     },
     "output_type":"display_data"
    }
   ],
   "metadata":{
    "datalore":{
     "type":"CODE",
     "hide_input_from_viewers":false,
     "hide_output_from_viewers":false,
     "node_id":"OBEVpUIrVCt93hDcaCRrAP"
    }
   }
  },
  {
   "cell_type":"code",
   "source":[
    "cw=df[[\"City\",\"Wounded\"]].groupby(\"City\").sum().sort_values(by=\"Wounded\",ascending=False).drop(\"Unknown\")\n",
    "cw.head(10)"
   ],
   "execution_count":41,
   "outputs":[
    {
     "data":{
      "text\/html":[
       "<div>\n",
       "<style scoped>\n",
       "    .dataframe tbody tr th:only-of-type {\n",
       "        vertical-align: middle;\n",
       "    }\n",
       "\n",
       "    .dataframe tbody tr th {\n",
       "        vertical-align: top;\n",
       "    }\n",
       "\n",
       "    .dataframe thead th {\n",
       "        text-align: right;\n",
       "    }\n",
       "<\/style>\n",
       "<table border=\"1\" class=\"dataframe\">\n",
       "  <thead>\n",
       "    <tr style=\"text-align: right;\">\n",
       "      <th><\/th>\n",
       "      <th>Wounded<\/th>\n",
       "    <\/tr>\n",
       "    <tr>\n",
       "      <th>City<\/th>\n",
       "      <th><\/th>\n",
       "    <\/tr>\n",
       "  <\/thead>\n",
       "  <tbody>\n",
       "    <tr>\n",
       "      <th>Baghdad<\/th>\n",
       "      <td>56725.0<\/td>\n",
       "    <\/tr>\n",
       "    <tr>\n",
       "      <th>New York City<\/th>\n",
       "      <td>16781.0<\/td>\n",
       "    <\/tr>\n",
       "    <tr>\n",
       "      <th>Kabul<\/th>\n",
       "      <td>5973.0<\/td>\n",
       "    <\/tr>\n",
       "    <tr>\n",
       "      <th>Mosul<\/th>\n",
       "      <td>5787.0<\/td>\n",
       "    <\/tr>\n",
       "    <tr>\n",
       "      <th>Karachi<\/th>\n",
       "      <td>5688.0<\/td>\n",
       "    <\/tr>\n",
       "    <tr>\n",
       "      <th>Tokyo<\/th>\n",
       "      <td>5542.0<\/td>\n",
       "    <\/tr>\n",
       "    <tr>\n",
       "      <th>Beirut<\/th>\n",
       "      <td>5341.0<\/td>\n",
       "    <\/tr>\n",
       "    <tr>\n",
       "      <th>Nairobi<\/th>\n",
       "      <td>5024.0<\/td>\n",
       "    <\/tr>\n",
       "    <tr>\n",
       "      <th>Kirkuk<\/th>\n",
       "      <td>5008.0<\/td>\n",
       "    <\/tr>\n",
       "    <tr>\n",
       "      <th>Mogadishu<\/th>\n",
       "      <td>4955.0<\/td>\n",
       "    <\/tr>\n",
       "  <\/tbody>\n",
       "<\/table>\n",
       "<\/div>"
      ]
     },
     "metadata":{
      
     },
     "output_type":"display_data"
    }
   ],
   "metadata":{
    "datalore":{
     "type":"CODE",
     "hide_input_from_viewers":false,
     "hide_output_from_viewers":false,
     "node_id":"awBtmdzbkiopPaVyBxyyTU"
    }
   }
  },
  {
   "cell_type":"code",
   "source":[
    "fig=plt.figure()\n",
    "ax0=fig.add_subplot(1,2,1)\n",
    "ax1=fig.add_subplot(1,2,2)\n",
    "\n",
    "#Killed\n",
    "ck[:10].plot(kind=\"bar\",color=\"cornflowerblue\",figsize=(15,6),ax=ax0)\n",
    "ax0.set_title(\"People Killed in each City\")\n",
    "ax0.set_xlabel(\"Cities\")\n",
    "ax0.set_ylabel(\"Number of People Killed\")\n",
    "\n",
    "#Wounded\n",
    "cw[:10].plot(kind=\"bar\",color=\"cornflowerblue\",figsize=(15,6),ax=ax1)\n",
    "ax1.set_title(\"People Wounded in each City\")\n",
    "ax1.set_xlabel(\"Cities\")\n",
    "ax1.set_ylabel(\"Number of People Wounded\")\n",
    "\n",
    "plt.show()"
   ],
   "execution_count":42,
   "outputs":[
    {
     "data":{
      "image\/png":"[encoded data removed]"
     },
     "metadata":{
      "image\/png":{
       
      }
     },
     "output_type":"display_data"
    }
   ],
   "metadata":{
    "datalore":{
     "type":"CODE",
     "hide_input_from_viewers":false,
     "hide_output_from_viewers":false,
     "node_id":"h7BumjZyP38DoLroOHQr6C"
    }
   }
  },
  {
   "cell_type":"markdown",
   "source":[
    "- Baghdad has suffered 7000 attacks in these 47 years, trailed by Karachi and Lima\n",
    "- Similarly, Baghdad has received 77876 casualities, followed by New York and Mosul\n",
    "- In City-Wise Killed Persons Graph, Mosul and Mogadishu has followed Baghdad.\n",
    "- In City-Wise Wounded Persons Graph, New York and Kabul has followed Baghdad."
   ],
   "attachments":{
    
   },
   "metadata":{
    "datalore":{
     "type":"MD",
     "hide_input_from_viewers":false,
     "hide_output_from_viewers":false,
     "node_id":"z4XMbyJCYyj9jxECL3u6Lp"
    }
   }
  },
  {
   "cell_type":"code",
   "source":[
    
   ],
   "execution_count":null,
   "outputs":[
    
   ],
   "metadata":{
    "datalore":{
     "type":"CODE",
     "hide_input_from_viewers":false,
     "hide_output_from_viewers":false,
     "node_id":"XHZKLT7Va9MZeFnxt692kC"
    }
   }
  }
 ],
 "metadata":{
  "kernelspec":{
   "display_name":"Python",
   "language":"python",
   "name":"python"
  },
  "datalore":{
   "version":1,
   "computation_mode":"JUPYTER",
   "package_manager":"pip",
   "base_environment":"default",
   "packages":[
    
   ]
  }
 },
 "nbformat":4,
 "nbformat_minor":4
}